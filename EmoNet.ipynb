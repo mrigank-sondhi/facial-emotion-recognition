{
  "nbformat": 4,
  "nbformat_minor": 0,
  "metadata": {
    "colab": {
      "name": "EmoNet.ipynb",
      "provenance": [],
      "collapsed_sections": []
    },
    "kernelspec": {
      "name": "python3",
      "display_name": "Python 3"
    },
    "language_info": {
      "name": "python"
    },
    "accelerator": "GPU"
  },
  "cells": [
    {
      "cell_type": "code",
      "source": [
        "import pandas as pd\n",
        "import os\n",
        "from shutil import copyfile\n",
        "import tensorflow as tf\n",
        "from tensorflow.keras.preprocessing.image import ImageDataGenerator\n",
        "from tensorflow.keras.optimizers import Adam\n",
        "from tensorflow.keras.callbacks import EarlyStopping \n",
        "from tensorflow.keras.layers import Conv2D, MaxPooling2D, Dense, Flatten\n",
        "from tensorflow.keras.models import Sequential"
      ],
      "metadata": {
        "id": "8V4tksqTzhZD"
      },
      "execution_count": 1,
      "outputs": []
    },
    {
      "cell_type": "markdown",
      "source": [
        "#1. Cloning the GitHub repository"
      ],
      "metadata": {
        "id": "cWPzVthGQizc"
      }
    },
    {
      "cell_type": "code",
      "source": [
        "!git clone https://github.com/muxspace/facial_expressions.git"
      ],
      "metadata": {
        "colab": {
          "base_uri": "https://localhost:8080/"
        },
        "id": "c3DErotqSLgi",
        "outputId": "c5dbe7c9-48d3-4a66-ba88-9ba396a5fbde"
      },
      "execution_count": 2,
      "outputs": [
        {
          "output_type": "stream",
          "name": "stdout",
          "text": [
            "Cloning into 'facial_expressions'...\n",
            "remote: Enumerating objects: 14214, done.\u001b[K\n",
            "remote: Total 14214 (delta 0), reused 0 (delta 0), pack-reused 14214\u001b[K\n",
            "Receiving objects: 100% (14214/14214), 239.65 MiB | 43.17 MiB/s, done.\n",
            "Resolving deltas: 100% (223/223), done.\n",
            "Checking out files: 100% (13996/13996), done.\n"
          ]
        }
      ]
    },
    {
      "cell_type": "markdown",
      "source": [
        "#2. Setting up images for the ImageDataGenerator class"
      ],
      "metadata": {
        "id": "RrNtJ1rRQ2Rv"
      }
    },
    {
      "cell_type": "code",
      "source": [
        "legend = pd.read_csv('/content/facial_expressions/data/legend.csv')\n",
        "\n",
        "replaceDict = {'HAPPINESS': 'happiness', 'SURPRISE': 'surprise', 'ANGER':'anger', 'DISGUST':'disgust', 'NEUTRAL':'neutral', 'SADNESS':'sadness', 'FEAR':'fear'}\n",
        "legend['emotion'].replace(to_replace = replaceDict, value = None, inplace = True)\n",
        "\n",
        "data = {}\n",
        "for i in range(len(legend)):\n",
        "  key = legend.iloc[i]['emotion']\n",
        "  if key in data:\n",
        "    data[key].append(legend.iloc[i]['image'])\n",
        "  else:\n",
        "    data[key] = [legend.iloc[i]['image']]"
      ],
      "metadata": {
        "id": "0h5WICD2rLVC"
      },
      "execution_count": 3,
      "outputs": []
    },
    {
      "cell_type": "code",
      "source": [
        "os.mkdir('master_data')\n",
        "os.mkdir('master_data/training')\n",
        "os.mkdir('master_data/testing')"
      ],
      "metadata": {
        "id": "AzjHWjV_t8tq"
      },
      "execution_count": 4,
      "outputs": []
    },
    {
      "cell_type": "code",
      "source": [
        "for emo in data.keys():\n",
        "  os.mkdir(f'master_data/training/{emo}')\n",
        "  os.mkdir(f'master_data/testing/{emo}')"
      ],
      "metadata": {
        "id": "ENeU09qzuDtn"
      },
      "execution_count": 5,
      "outputs": []
    },
    {
      "cell_type": "code",
      "source": [
        "for emo, image_list in data.items():\n",
        "  split = int(0.8 * len(image_list))\n",
        "  training_images = image_list[:split]\n",
        "  testing_images = image_list[split:]\n",
        "\n",
        "  for img in training_images:\n",
        "    source = os.path.join('/content/facial_expressions/images', img)\n",
        "    destination = os.path.join('/content/master_data/training', emo, img)\n",
        "    copyfile(source, destination)\n",
        "\n",
        "  for img in testing_images:\n",
        "    source = os.path.join('/content/facial_expressions/images', img)\n",
        "    destination = os.path.join('/content/master_data/testing', emo, img)\n",
        "    copyfile(source, destination)"
      ],
      "metadata": {
        "id": "R32s2VXpuaQ1"
      },
      "execution_count": 6,
      "outputs": []
    },
    {
      "cell_type": "markdown",
      "source": [
        "#3. Creating the CNN Model"
      ],
      "metadata": {
        "id": "tG3cVlgbRCp6"
      }
    },
    {
      "cell_type": "code",
      "source": [
        "model = Sequential()"
      ],
      "metadata": {
        "id": "wFUwjPZ6HJIx"
      },
      "execution_count": 7,
      "outputs": []
    },
    {
      "cell_type": "code",
      "source": [
        "model.add(Conv2D(16, (3, 3), activation = 'relu', input_shape = (100, 100, 3)))\n",
        "model.add(MaxPooling2D((2, 2)))\n",
        "model.add(Conv2D(32, (3, 3), activation = 'relu'))\n",
        "model.add(MaxPooling2D((2, 2)))\n",
        "model.add(Conv2D(64, (3, 3), activation = 'relu'))\n",
        "model.add(MaxPooling2D((2, 2)))\n",
        "model.add(Flatten())\n",
        "model.add(Dense(1024, activation = 'relu'))\n",
        "model.add(Dense(8, activation = 'softmax'))"
      ],
      "metadata": {
        "id": "FVt81d32RLEg"
      },
      "execution_count": 8,
      "outputs": []
    },
    {
      "cell_type": "code",
      "source": [
        "model.summary()"
      ],
      "metadata": {
        "colab": {
          "base_uri": "https://localhost:8080/"
        },
        "id": "hFQBoGocR4c7",
        "outputId": "b85655b5-fba7-443e-9aa9-d7ecc7bd9317"
      },
      "execution_count": 9,
      "outputs": [
        {
          "output_type": "stream",
          "name": "stdout",
          "text": [
            "Model: \"sequential\"\n",
            "_________________________________________________________________\n",
            " Layer (type)                Output Shape              Param #   \n",
            "=================================================================\n",
            " conv2d (Conv2D)             (None, 98, 98, 16)        448       \n",
            "                                                                 \n",
            " max_pooling2d (MaxPooling2D  (None, 49, 49, 16)       0         \n",
            " )                                                               \n",
            "                                                                 \n",
            " conv2d_1 (Conv2D)           (None, 47, 47, 32)        4640      \n",
            "                                                                 \n",
            " max_pooling2d_1 (MaxPooling  (None, 23, 23, 32)       0         \n",
            " 2D)                                                             \n",
            "                                                                 \n",
            " conv2d_2 (Conv2D)           (None, 21, 21, 64)        18496     \n",
            "                                                                 \n",
            " max_pooling2d_2 (MaxPooling  (None, 10, 10, 64)       0         \n",
            " 2D)                                                             \n",
            "                                                                 \n",
            " flatten (Flatten)           (None, 6400)              0         \n",
            "                                                                 \n",
            " dense (Dense)               (None, 1024)              6554624   \n",
            "                                                                 \n",
            " dense_1 (Dense)             (None, 8)                 8200      \n",
            "                                                                 \n",
            "=================================================================\n",
            "Total params: 6,586,408\n",
            "Trainable params: 6,586,408\n",
            "Non-trainable params: 0\n",
            "_________________________________________________________________\n"
          ]
        }
      ]
    },
    {
      "cell_type": "code",
      "source": [
        "model.compile(optimizer = Adam(learning_rate = 0.01), loss = 'categorical_crossentropy', metrics = ['accuracy'])"
      ],
      "metadata": {
        "id": "tgnEoAyhS_qw"
      },
      "execution_count": 10,
      "outputs": []
    },
    {
      "cell_type": "markdown",
      "source": [
        "#4. Training and Testing the model"
      ],
      "metadata": {
        "id": "YMGf_YjxU3DQ"
      }
    },
    {
      "cell_type": "code",
      "source": [
        "training_directory = '/content/master_data/training'\n",
        "testing_directory = '/content/master_data/testing'"
      ],
      "metadata": {
        "id": "UW5c4vB9UNqP"
      },
      "execution_count": 11,
      "outputs": []
    },
    {
      "cell_type": "code",
      "source": [
        "training_datagen = ImageDataGenerator(rescale = 1.0/255)\n",
        "training_flow = training_datagen.flow_from_directory(\n",
        "    training_directory,\n",
        "    target_size = (100, 100),\n",
        "    class_mode = 'categorical',\n",
        "    batch_size = 64\n",
        ")\n",
        "\n",
        "testing_datagen = ImageDataGenerator(rescale = 1.0/255)\n",
        "testing_flow = testing_datagen.flow_from_directory(\n",
        "    testing_directory,\n",
        "    target_size = (100, 100),\n",
        "    class_mode = 'categorical',\n",
        "    batch_size = 64\n",
        ")"
      ],
      "metadata": {
        "colab": {
          "base_uri": "https://localhost:8080/"
        },
        "id": "QYuYjmvsVP8_",
        "outputId": "e03eebb5-aeb4-458c-b659-d68635719e22"
      },
      "execution_count": 12,
      "outputs": [
        {
          "output_type": "stream",
          "name": "stdout",
          "text": [
            "Found 10941 images belonging to 8 classes.\n",
            "Found 2742 images belonging to 8 classes.\n"
          ]
        }
      ]
    },
    {
      "cell_type": "code",
      "source": [
        "early_stopping = EarlyStopping(monitor = 'val_accuracy', patience = 2, min_delta = 0.01)"
      ],
      "metadata": {
        "id": "NVuWRknSWjNS"
      },
      "execution_count": 13,
      "outputs": []
    },
    {
      "cell_type": "code",
      "source": [
        "model.fit(\n",
        "    training_flow,\n",
        "    epochs = 20,\n",
        "    verbose = 1,\n",
        "    validation_data = testing_flow\n",
        ")"
      ],
      "metadata": {
        "colab": {
          "base_uri": "https://localhost:8080/"
        },
        "id": "HCr0dMHnYA3r",
        "outputId": "b239bd4c-a94b-4d18-a2b8-b560f06e0229"
      },
      "execution_count": 14,
      "outputs": [
        {
          "output_type": "stream",
          "name": "stdout",
          "text": [
            "Epoch 1/20\n",
            "171/171 [==============================] - 29s 104ms/step - loss: 1.0622 - accuracy: 0.5266 - val_loss: 0.9525 - val_accuracy: 0.6149\n",
            "Epoch 2/20\n",
            "171/171 [==============================] - 16s 96ms/step - loss: 0.8180 - accuracy: 0.7053 - val_loss: 0.9163 - val_accuracy: 0.6506\n",
            "Epoch 3/20\n",
            "171/171 [==============================] - 17s 97ms/step - loss: 0.7531 - accuracy: 0.7362 - val_loss: 0.9741 - val_accuracy: 0.6233\n",
            "Epoch 4/20\n",
            "171/171 [==============================] - 17s 99ms/step - loss: 0.7277 - accuracy: 0.7487 - val_loss: 1.0647 - val_accuracy: 0.5890\n",
            "Epoch 5/20\n",
            "171/171 [==============================] - 17s 100ms/step - loss: 0.7005 - accuracy: 0.7602 - val_loss: 1.1643 - val_accuracy: 0.6298\n",
            "Epoch 6/20\n",
            "171/171 [==============================] - 16s 96ms/step - loss: 0.7042 - accuracy: 0.7550 - val_loss: 1.0667 - val_accuracy: 0.6309\n",
            "Epoch 7/20\n",
            "171/171 [==============================] - 17s 97ms/step - loss: 0.7183 - accuracy: 0.7544 - val_loss: 1.1087 - val_accuracy: 0.6386\n",
            "Epoch 8/20\n",
            "171/171 [==============================] - 17s 101ms/step - loss: 0.6850 - accuracy: 0.7645 - val_loss: 1.0770 - val_accuracy: 0.6477\n",
            "Epoch 9/20\n",
            "171/171 [==============================] - 17s 97ms/step - loss: 0.6845 - accuracy: 0.7649 - val_loss: 1.2768 - val_accuracy: 0.6131\n",
            "Epoch 10/20\n",
            "171/171 [==============================] - 16s 95ms/step - loss: 0.6668 - accuracy: 0.7669 - val_loss: 1.2396 - val_accuracy: 0.6251\n",
            "Epoch 11/20\n",
            "171/171 [==============================] - 16s 96ms/step - loss: 0.6727 - accuracy: 0.7633 - val_loss: 1.1915 - val_accuracy: 0.5766\n",
            "Epoch 12/20\n",
            "171/171 [==============================] - 17s 100ms/step - loss: 0.6446 - accuracy: 0.7731 - val_loss: 1.4914 - val_accuracy: 0.6276\n",
            "Epoch 13/20\n",
            "171/171 [==============================] - 16s 95ms/step - loss: 0.6405 - accuracy: 0.7716 - val_loss: 1.3716 - val_accuracy: 0.6287\n",
            "Epoch 14/20\n",
            "171/171 [==============================] - 16s 96ms/step - loss: 0.6429 - accuracy: 0.7731 - val_loss: 1.5517 - val_accuracy: 0.6105\n",
            "Epoch 15/20\n",
            "171/171 [==============================] - 17s 99ms/step - loss: 0.6236 - accuracy: 0.7818 - val_loss: 1.4467 - val_accuracy: 0.6109\n",
            "Epoch 16/20\n",
            "171/171 [==============================] - 16s 96ms/step - loss: 0.6265 - accuracy: 0.7860 - val_loss: 1.4950 - val_accuracy: 0.6251\n",
            "Epoch 17/20\n",
            "171/171 [==============================] - 16s 95ms/step - loss: 0.6339 - accuracy: 0.7738 - val_loss: 1.6605 - val_accuracy: 0.6116\n",
            "Epoch 18/20\n",
            "171/171 [==============================] - 16s 95ms/step - loss: 0.6084 - accuracy: 0.7853 - val_loss: 1.6491 - val_accuracy: 0.6236\n",
            "Epoch 19/20\n",
            "171/171 [==============================] - 17s 100ms/step - loss: 0.5961 - accuracy: 0.7903 - val_loss: 1.5990 - val_accuracy: 0.6306\n",
            "Epoch 20/20\n",
            "171/171 [==============================] - 16s 95ms/step - loss: 0.5905 - accuracy: 0.7891 - val_loss: 1.4937 - val_accuracy: 0.6134\n"
          ]
        },
        {
          "output_type": "execute_result",
          "data": {
            "text/plain": [
              "<keras.callbacks.History at 0x7f8e900bb690>"
            ]
          },
          "metadata": {},
          "execution_count": 14
        }
      ]
    }
  ]
}